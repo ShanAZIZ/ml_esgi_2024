{
 "cells": [
  {
   "cell_type": "markdown",
   "metadata": {},
   "source": [
    "# Contrôle Continu"
   ]
  },
  {
   "cell_type": "markdown",
   "metadata": {},
   "source": [
    "### AZIZ Shana"
   ]
  },
  {
   "cell_type": "markdown",
   "metadata": {},
   "source": [
    "# Préparation des données"
   ]
  },
  {
   "cell_type": "code",
   "execution_count": 3,
   "metadata": {},
   "outputs": [],
   "source": [
    "import numpy as np\n",
    "import matplotlib.pyplot as plt\n",
    "import seaborn as sns\n",
    "import pandas as pd\n",
    "pd.options.display.max_columns = None"
   ]
  },
  {
   "cell_type": "markdown",
   "metadata": {},
   "source": [
    "## 1- Charger la donnée"
   ]
  },
  {
   "cell_type": "code",
   "execution_count": 4,
   "metadata": {},
   "outputs": [],
   "source": [
    "raw_data = pd.read_csv(\"input/diabetes.txt\", sep=\"\\t\")"
   ]
  },
  {
   "cell_type": "markdown",
   "metadata": {},
   "source": [
    "## 2- Afficher les 10 premières lignes de la raw_data"
   ]
  },
  {
   "cell_type": "code",
   "execution_count": 5,
   "metadata": {},
   "outputs": [
    {
     "data": {
      "text/html": [
       "<div>\n",
       "<style scoped>\n",
       "    .dataframe tbody tr th:only-of-type {\n",
       "        vertical-align: middle;\n",
       "    }\n",
       "\n",
       "    .dataframe tbody tr th {\n",
       "        vertical-align: top;\n",
       "    }\n",
       "\n",
       "    .dataframe thead th {\n",
       "        text-align: right;\n",
       "    }\n",
       "</style>\n",
       "<table border=\"1\" class=\"dataframe\">\n",
       "  <thead>\n",
       "    <tr style=\"text-align: right;\">\n",
       "      <th></th>\n",
       "      <th>Pregnancies</th>\n",
       "      <th>Glucose</th>\n",
       "      <th>BloodPressure</th>\n",
       "      <th>SkinThickness</th>\n",
       "      <th>Insulin</th>\n",
       "      <th>BMI</th>\n",
       "      <th>DiabetesPedigreeFunction</th>\n",
       "      <th>Age</th>\n",
       "      <th>Outcome</th>\n",
       "    </tr>\n",
       "  </thead>\n",
       "  <tbody>\n",
       "    <tr>\n",
       "      <th>0</th>\n",
       "      <td>6.0</td>\n",
       "      <td>148</td>\n",
       "      <td>NaN</td>\n",
       "      <td>35</td>\n",
       "      <td>0.0</td>\n",
       "      <td>33.6</td>\n",
       "      <td>0.627</td>\n",
       "      <td>50</td>\n",
       "      <td>1</td>\n",
       "    </tr>\n",
       "    <tr>\n",
       "      <th>1</th>\n",
       "      <td>1.0</td>\n",
       "      <td>85</td>\n",
       "      <td>NaN</td>\n",
       "      <td>29</td>\n",
       "      <td>0.0</td>\n",
       "      <td>26.6</td>\n",
       "      <td>0.351</td>\n",
       "      <td>31</td>\n",
       "      <td>0</td>\n",
       "    </tr>\n",
       "    <tr>\n",
       "      <th>2</th>\n",
       "      <td>8.0</td>\n",
       "      <td>183</td>\n",
       "      <td>NaN</td>\n",
       "      <td>0</td>\n",
       "      <td>0.0</td>\n",
       "      <td>23.3</td>\n",
       "      <td>0.672</td>\n",
       "      <td>32</td>\n",
       "      <td>1</td>\n",
       "    </tr>\n",
       "    <tr>\n",
       "      <th>3</th>\n",
       "      <td>1.0</td>\n",
       "      <td>89</td>\n",
       "      <td>NaN</td>\n",
       "      <td>23</td>\n",
       "      <td>94.0</td>\n",
       "      <td>28.1</td>\n",
       "      <td>0.167</td>\n",
       "      <td>21</td>\n",
       "      <td>0</td>\n",
       "    </tr>\n",
       "    <tr>\n",
       "      <th>4</th>\n",
       "      <td>0.0</td>\n",
       "      <td>137</td>\n",
       "      <td>NaN</td>\n",
       "      <td>35</td>\n",
       "      <td>168.0</td>\n",
       "      <td>43.1</td>\n",
       "      <td>2.288</td>\n",
       "      <td>33</td>\n",
       "      <td>1</td>\n",
       "    </tr>\n",
       "    <tr>\n",
       "      <th>5</th>\n",
       "      <td>5.0</td>\n",
       "      <td>116</td>\n",
       "      <td>NaN</td>\n",
       "      <td>0</td>\n",
       "      <td>0.0</td>\n",
       "      <td>25.6</td>\n",
       "      <td>0.201</td>\n",
       "      <td>30</td>\n",
       "      <td>0</td>\n",
       "    </tr>\n",
       "    <tr>\n",
       "      <th>6</th>\n",
       "      <td>3.0</td>\n",
       "      <td>78</td>\n",
       "      <td>NaN</td>\n",
       "      <td>32</td>\n",
       "      <td>88.0</td>\n",
       "      <td>31.0</td>\n",
       "      <td>0.248</td>\n",
       "      <td>26</td>\n",
       "      <td>1</td>\n",
       "    </tr>\n",
       "    <tr>\n",
       "      <th>7</th>\n",
       "      <td>10.0</td>\n",
       "      <td>115</td>\n",
       "      <td>NaN</td>\n",
       "      <td>0</td>\n",
       "      <td>0.0</td>\n",
       "      <td>35.3</td>\n",
       "      <td>0.134</td>\n",
       "      <td>29</td>\n",
       "      <td>0</td>\n",
       "    </tr>\n",
       "    <tr>\n",
       "      <th>8</th>\n",
       "      <td>2.0</td>\n",
       "      <td>197</td>\n",
       "      <td>NaN</td>\n",
       "      <td>45</td>\n",
       "      <td>543.0</td>\n",
       "      <td>30.5</td>\n",
       "      <td>0.158</td>\n",
       "      <td>53</td>\n",
       "      <td>1</td>\n",
       "    </tr>\n",
       "    <tr>\n",
       "      <th>9</th>\n",
       "      <td>8.0</td>\n",
       "      <td>125</td>\n",
       "      <td>NaN</td>\n",
       "      <td>0</td>\n",
       "      <td>0.0</td>\n",
       "      <td>0.0</td>\n",
       "      <td>0.232</td>\n",
       "      <td>54</td>\n",
       "      <td>1</td>\n",
       "    </tr>\n",
       "  </tbody>\n",
       "</table>\n",
       "</div>"
      ],
      "text/plain": [
       "   Pregnancies  Glucose  BloodPressure  SkinThickness  Insulin   BMI  \\\n",
       "0          6.0      148            NaN             35      0.0  33.6   \n",
       "1          1.0       85            NaN             29      0.0  26.6   \n",
       "2          8.0      183            NaN              0      0.0  23.3   \n",
       "3          1.0       89            NaN             23     94.0  28.1   \n",
       "4          0.0      137            NaN             35    168.0  43.1   \n",
       "5          5.0      116            NaN              0      0.0  25.6   \n",
       "6          3.0       78            NaN             32     88.0  31.0   \n",
       "7         10.0      115            NaN              0      0.0  35.3   \n",
       "8          2.0      197            NaN             45    543.0  30.5   \n",
       "9          8.0      125            NaN              0      0.0   0.0   \n",
       "\n",
       "   DiabetesPedigreeFunction  Age  Outcome  \n",
       "0                     0.627   50        1  \n",
       "1                     0.351   31        0  \n",
       "2                     0.672   32        1  \n",
       "3                     0.167   21        0  \n",
       "4                     2.288   33        1  \n",
       "5                     0.201   30        0  \n",
       "6                     0.248   26        1  \n",
       "7                     0.134   29        0  \n",
       "8                     0.158   53        1  \n",
       "9                     0.232   54        1  "
      ]
     },
     "execution_count": 5,
     "metadata": {},
     "output_type": "execute_result"
    }
   ],
   "source": [
    "# Regarder dans la base\n",
    "raw_data.head(10)\n"
   ]
  },
  {
   "cell_type": "markdown",
   "metadata": {},
   "source": [
    "## 3- Afficher les 10 dernières lignes de la raw_data"
   ]
  },
  {
   "cell_type": "code",
   "execution_count": 6,
   "metadata": {},
   "outputs": [
    {
     "data": {
      "text/html": [
       "<div>\n",
       "<style scoped>\n",
       "    .dataframe tbody tr th:only-of-type {\n",
       "        vertical-align: middle;\n",
       "    }\n",
       "\n",
       "    .dataframe tbody tr th {\n",
       "        vertical-align: top;\n",
       "    }\n",
       "\n",
       "    .dataframe thead th {\n",
       "        text-align: right;\n",
       "    }\n",
       "</style>\n",
       "<table border=\"1\" class=\"dataframe\">\n",
       "  <thead>\n",
       "    <tr style=\"text-align: right;\">\n",
       "      <th></th>\n",
       "      <th>Pregnancies</th>\n",
       "      <th>Glucose</th>\n",
       "      <th>BloodPressure</th>\n",
       "      <th>SkinThickness</th>\n",
       "      <th>Insulin</th>\n",
       "      <th>BMI</th>\n",
       "      <th>DiabetesPedigreeFunction</th>\n",
       "      <th>Age</th>\n",
       "      <th>Outcome</th>\n",
       "    </tr>\n",
       "  </thead>\n",
       "  <tbody>\n",
       "    <tr>\n",
       "      <th>758</th>\n",
       "      <td>1.0</td>\n",
       "      <td>106</td>\n",
       "      <td>76.0</td>\n",
       "      <td>0</td>\n",
       "      <td>0.0</td>\n",
       "      <td>37.5</td>\n",
       "      <td>0.197</td>\n",
       "      <td>26</td>\n",
       "      <td>0</td>\n",
       "    </tr>\n",
       "    <tr>\n",
       "      <th>759</th>\n",
       "      <td>6.0</td>\n",
       "      <td>190</td>\n",
       "      <td>92.0</td>\n",
       "      <td>0</td>\n",
       "      <td>0.0</td>\n",
       "      <td>35.5</td>\n",
       "      <td>0.278</td>\n",
       "      <td>66</td>\n",
       "      <td>1</td>\n",
       "    </tr>\n",
       "    <tr>\n",
       "      <th>760</th>\n",
       "      <td>2.0</td>\n",
       "      <td>88</td>\n",
       "      <td>58.0</td>\n",
       "      <td>26</td>\n",
       "      <td>16.0</td>\n",
       "      <td>28.4</td>\n",
       "      <td>0.766</td>\n",
       "      <td>22</td>\n",
       "      <td>0</td>\n",
       "    </tr>\n",
       "    <tr>\n",
       "      <th>761</th>\n",
       "      <td>9.0</td>\n",
       "      <td>170</td>\n",
       "      <td>74.0</td>\n",
       "      <td>31</td>\n",
       "      <td>0.0</td>\n",
       "      <td>44.0</td>\n",
       "      <td>0.403</td>\n",
       "      <td>43</td>\n",
       "      <td>1</td>\n",
       "    </tr>\n",
       "    <tr>\n",
       "      <th>762</th>\n",
       "      <td>9.0</td>\n",
       "      <td>89</td>\n",
       "      <td>62.0</td>\n",
       "      <td>0</td>\n",
       "      <td>0.0</td>\n",
       "      <td>22.5</td>\n",
       "      <td>0.142</td>\n",
       "      <td>33</td>\n",
       "      <td>0</td>\n",
       "    </tr>\n",
       "    <tr>\n",
       "      <th>763</th>\n",
       "      <td>10.0</td>\n",
       "      <td>101</td>\n",
       "      <td>76.0</td>\n",
       "      <td>48</td>\n",
       "      <td>180.0</td>\n",
       "      <td>32.9</td>\n",
       "      <td>0.171</td>\n",
       "      <td>63</td>\n",
       "      <td>0</td>\n",
       "    </tr>\n",
       "    <tr>\n",
       "      <th>764</th>\n",
       "      <td>2.0</td>\n",
       "      <td>122</td>\n",
       "      <td>70.0</td>\n",
       "      <td>27</td>\n",
       "      <td>0.0</td>\n",
       "      <td>36.8</td>\n",
       "      <td>0.340</td>\n",
       "      <td>27</td>\n",
       "      <td>0</td>\n",
       "    </tr>\n",
       "    <tr>\n",
       "      <th>765</th>\n",
       "      <td>5.0</td>\n",
       "      <td>121</td>\n",
       "      <td>72.0</td>\n",
       "      <td>23</td>\n",
       "      <td>112.0</td>\n",
       "      <td>26.2</td>\n",
       "      <td>0.245</td>\n",
       "      <td>30</td>\n",
       "      <td>0</td>\n",
       "    </tr>\n",
       "    <tr>\n",
       "      <th>766</th>\n",
       "      <td>1.0</td>\n",
       "      <td>126</td>\n",
       "      <td>60.0</td>\n",
       "      <td>0</td>\n",
       "      <td>0.0</td>\n",
       "      <td>30.1</td>\n",
       "      <td>0.349</td>\n",
       "      <td>47</td>\n",
       "      <td>1</td>\n",
       "    </tr>\n",
       "    <tr>\n",
       "      <th>767</th>\n",
       "      <td>1.0</td>\n",
       "      <td>93</td>\n",
       "      <td>70.0</td>\n",
       "      <td>31</td>\n",
       "      <td>0.0</td>\n",
       "      <td>30.4</td>\n",
       "      <td>0.315</td>\n",
       "      <td>23</td>\n",
       "      <td>0</td>\n",
       "    </tr>\n",
       "  </tbody>\n",
       "</table>\n",
       "</div>"
      ],
      "text/plain": [
       "     Pregnancies  Glucose  BloodPressure  SkinThickness  Insulin   BMI  \\\n",
       "758          1.0      106           76.0              0      0.0  37.5   \n",
       "759          6.0      190           92.0              0      0.0  35.5   \n",
       "760          2.0       88           58.0             26     16.0  28.4   \n",
       "761          9.0      170           74.0             31      0.0  44.0   \n",
       "762          9.0       89           62.0              0      0.0  22.5   \n",
       "763         10.0      101           76.0             48    180.0  32.9   \n",
       "764          2.0      122           70.0             27      0.0  36.8   \n",
       "765          5.0      121           72.0             23    112.0  26.2   \n",
       "766          1.0      126           60.0              0      0.0  30.1   \n",
       "767          1.0       93           70.0             31      0.0  30.4   \n",
       "\n",
       "     DiabetesPedigreeFunction  Age  Outcome  \n",
       "758                     0.197   26        0  \n",
       "759                     0.278   66        1  \n",
       "760                     0.766   22        0  \n",
       "761                     0.403   43        1  \n",
       "762                     0.142   33        0  \n",
       "763                     0.171   63        0  \n",
       "764                     0.340   27        0  \n",
       "765                     0.245   30        0  \n",
       "766                     0.349   47        1  \n",
       "767                     0.315   23        0  "
      ]
     },
     "execution_count": 6,
     "metadata": {},
     "output_type": "execute_result"
    }
   ],
   "source": [
    "# Regarder dans la base\n",
    "raw_data.tail(10)"
   ]
  },
  {
   "cell_type": "markdown",
   "metadata": {},
   "source": [
    "## 4- Quelle est la dimension (nombre de lignes et nombre de colonnes) de raw_data ?"
   ]
  },
  {
   "cell_type": "code",
   "execution_count": 7,
   "metadata": {},
   "outputs": [
    {
     "data": {
      "text/plain": [
       "(768, 9)"
      ]
     },
     "execution_count": 7,
     "metadata": {},
     "output_type": "execute_result"
    }
   ],
   "source": [
    "raw_data.shape"
   ]
  },
  {
   "cell_type": "markdown",
   "metadata": {},
   "source": [
    "## 5- Afficher les informations concernant les colonnes et leur type respectif"
   ]
  },
  {
   "cell_type": "code",
   "execution_count": 8,
   "metadata": {},
   "outputs": [
    {
     "name": "stdout",
     "output_type": "stream",
     "text": [
      "<class 'pandas.core.frame.DataFrame'>\n",
      "RangeIndex: 768 entries, 0 to 767\n",
      "Data columns (total 9 columns):\n",
      " #   Column                    Non-Null Count  Dtype  \n",
      "---  ------                    --------------  -----  \n",
      " 0   Pregnancies               741 non-null    float64\n",
      " 1   Glucose                   768 non-null    int64  \n",
      " 2   BloodPressure             748 non-null    float64\n",
      " 3   SkinThickness             768 non-null    int64  \n",
      " 4   Insulin                   747 non-null    float64\n",
      " 5   BMI                       768 non-null    float64\n",
      " 6   DiabetesPedigreeFunction  581 non-null    float64\n",
      " 7   Age                       768 non-null    int64  \n",
      " 8   Outcome                   768 non-null    int64  \n",
      "dtypes: float64(5), int64(4)\n",
      "memory usage: 54.1 KB\n"
     ]
    }
   ],
   "source": [
    "raw_data.info()"
   ]
  },
  {
   "cell_type": "markdown",
   "metadata": {},
   "source": [
    "## 6- Combien y-a-t-il de variables numériques"
   ]
  },
  {
   "cell_type": "code",
   "execution_count": 9,
   "metadata": {},
   "outputs": [
    {
     "data": {
      "text/plain": [
       "9"
      ]
     },
     "execution_count": 9,
     "metadata": {},
     "output_type": "execute_result"
    }
   ],
   "source": [
    "len(raw_data.select_dtypes([\"int64\", \"float64\"]).columns)"
   ]
  },
  {
   "cell_type": "markdown",
   "metadata": {},
   "source": [
    "## 7- Quelles sont les deux variables ayant le plus de valeurs manquantes"
   ]
  },
  {
   "cell_type": "code",
   "execution_count": 10,
   "metadata": {},
   "outputs": [
    {
     "name": "stdout",
     "output_type": "stream",
     "text": [
      "DiabetesPedigreeFunction    187\n",
      "Pregnancies                  27\n",
      "Insulin                      21\n",
      "BloodPressure                20\n",
      "Glucose                       0\n",
      "SkinThickness                 0\n",
      "BMI                           0\n",
      "Age                           0\n",
      "Outcome                       0\n",
      "dtype: int64\n"
     ]
    }
   ],
   "source": [
    "# nombre de valeurs manquantes\n",
    "missing_vars = raw_data.isnull().sum().sort_values(ascending=False)\n",
    "print(missing_vars)\n",
    "\n"
   ]
  },
  {
   "cell_type": "code",
   "execution_count": 11,
   "metadata": {},
   "outputs": [
    {
     "name": "stdout",
     "output_type": "stream",
     "text": [
      "DiabetesPedigreeFunction    187\n",
      "Pregnancies                  27\n",
      "dtype: int64\n"
     ]
    }
   ],
   "source": [
    "print(missing_vars.head(2))"
   ]
  },
  {
   "cell_type": "markdown",
   "metadata": {},
   "source": [
    "## 8- Quelle est la proportion de valeurs manquantes dans les deux variables comportant le moins de valeurs manquantes ?"
   ]
  },
  {
   "cell_type": "code",
   "execution_count": 12,
   "metadata": {},
   "outputs": [
    {
     "data": {
      "text/plain": [
       "DiabetesPedigreeFunction    0.243490\n",
       "Pregnancies                 0.035156\n",
       "dtype: float64"
      ]
     },
     "execution_count": 12,
     "metadata": {},
     "output_type": "execute_result"
    }
   ],
   "source": [
    "raw_data.isnull().mean().sort_values(ascending=False).head(2)\n"
   ]
  },
  {
   "cell_type": "markdown",
   "metadata": {},
   "source": [
    "## 9- Convertir la variable \"Pregnancies\" en entier"
   ]
  },
  {
   "cell_type": "code",
   "execution_count": 13,
   "metadata": {},
   "outputs": [
    {
     "name": "stdout",
     "output_type": "stream",
     "text": [
      "<class 'pandas.core.frame.DataFrame'>\n",
      "RangeIndex: 768 entries, 0 to 767\n",
      "Data columns (total 9 columns):\n",
      " #   Column                    Non-Null Count  Dtype  \n",
      "---  ------                    --------------  -----  \n",
      " 0   Pregnancies               741 non-null    Int64  \n",
      " 1   Glucose                   768 non-null    int64  \n",
      " 2   BloodPressure             748 non-null    float64\n",
      " 3   SkinThickness             768 non-null    int64  \n",
      " 4   Insulin                   747 non-null    float64\n",
      " 5   BMI                       768 non-null    float64\n",
      " 6   DiabetesPedigreeFunction  581 non-null    float64\n",
      " 7   Age                       768 non-null    int64  \n",
      " 8   Outcome                   768 non-null    int64  \n",
      "dtypes: Int64(1), float64(4), int64(4)\n",
      "memory usage: 54.9 KB\n"
     ]
    }
   ],
   "source": [
    "raw_data_conv = raw_data.copy()\n",
    "raw_data_conv[\"Pregnancies\"] = raw_data_conv[\"Pregnancies\"].astype(\"Int64\")\n",
    "raw_data_conv.info()\n",
    "\n",
    "# Que faire des valuers vides ?"
   ]
  },
  {
   "cell_type": "markdown",
   "metadata": {},
   "source": [
    "## 10- Vérifier que la conversion a bien été faite"
   ]
  },
  {
   "cell_type": "code",
   "execution_count": 14,
   "metadata": {},
   "outputs": [
    {
     "name": "stdout",
     "output_type": "stream",
     "text": [
      "<class 'pandas.core.frame.DataFrame'>\n",
      "RangeIndex: 768 entries, 0 to 767\n",
      "Data columns (total 9 columns):\n",
      " #   Column                    Non-Null Count  Dtype  \n",
      "---  ------                    --------------  -----  \n",
      " 0   Pregnancies               741 non-null    Int64  \n",
      " 1   Glucose                   768 non-null    int64  \n",
      " 2   BloodPressure             748 non-null    float64\n",
      " 3   SkinThickness             768 non-null    int64  \n",
      " 4   Insulin                   747 non-null    float64\n",
      " 5   BMI                       768 non-null    float64\n",
      " 6   DiabetesPedigreeFunction  581 non-null    float64\n",
      " 7   Age                       768 non-null    int64  \n",
      " 8   Outcome                   768 non-null    int64  \n",
      "dtypes: Int64(1), float64(4), int64(4)\n",
      "memory usage: 54.9 KB\n"
     ]
    }
   ],
   "source": [
    "raw_data_conv.info()\n"
   ]
  },
  {
   "cell_type": "markdown",
   "metadata": {},
   "source": [
    "## 11- imputer la variables Pregnancies par la médiane "
   ]
  },
  {
   "cell_type": "code",
   "execution_count": 15,
   "metadata": {},
   "outputs": [],
   "source": [
    "pregnancies_data_median =  raw_data_conv[\"Pregnancies\"].fillna(raw_data_conv[\"Pregnancies\"].median())\n"
   ]
  },
  {
   "cell_type": "markdown",
   "metadata": {},
   "source": [
    "## 12- Vérifier que l'imputation a bien été faite"
   ]
  },
  {
   "cell_type": "code",
   "execution_count": 16,
   "metadata": {},
   "outputs": [
    {
     "name": "stdout",
     "output_type": "stream",
     "text": [
      " les stats descriptives après imputation par la médiane : count       768.0\n",
      "mean       3.8125\n",
      "std      3.309541\n",
      "min           0.0\n",
      "25%           1.0\n",
      "50%           3.0\n",
      "75%           6.0\n",
      "max          15.0\n",
      "Name: Pregnancies, dtype: Float64\n",
      "Null value count:  0\n"
     ]
    }
   ],
   "source": [
    "print(\" les stats descriptives après imputation par la médiane :\", pregnancies_data_median.describe())\n",
    "print(\"Null value count: \", pregnancies_data_median.isnull().sum())\n"
   ]
  },
  {
   "cell_type": "markdown",
   "metadata": {},
   "source": [
    "## 13- Comment la moyenne et la médiane de la variable Pregnancies ont été modifiées après l'imputation"
   ]
  },
  {
   "cell_type": "code",
   "execution_count": 17,
   "metadata": {},
   "outputs": [
    {
     "name": "stdout",
     "output_type": "stream",
     "text": [
      "Before Inputation\n",
      "count       741.0\n",
      "mean     3.842105\n",
      "std      3.365671\n",
      "min           0.0\n",
      "25%           1.0\n",
      "50%           3.0\n",
      "75%           6.0\n",
      "max          15.0\n",
      "Name: Pregnancies, dtype: Float64\n",
      "After Inputation\n",
      "count       768.0\n",
      "mean       3.8125\n",
      "std      3.309541\n",
      "min           0.0\n",
      "25%           1.0\n",
      "50%           3.0\n",
      "75%           6.0\n",
      "max          15.0\n",
      "Name: Pregnancies, dtype: Float64\n"
     ]
    }
   ],
   "source": [
    "print(\"Before Inputation\")\n",
    "print(raw_data_conv[\"Pregnancies\"].describe())\n",
    "print(\"After Inputation\")\n",
    "print(pregnancies_data_median.describe())"
   ]
  },
  {
   "cell_type": "markdown",
   "metadata": {},
   "source": [
    "## 14- Imputer toutes les autres valeurs manquantes par la stratégie de votre choix et explique"
   ]
  },
  {
   "cell_type": "markdown",
   "metadata": {},
   "source": [
    "### Manuellement"
   ]
  },
  {
   "cell_type": "code",
   "execution_count": 18,
   "metadata": {},
   "outputs": [
    {
     "name": "stdout",
     "output_type": "stream",
     "text": [
      "<class 'pandas.core.frame.DataFrame'>\n",
      "RangeIndex: 768 entries, 0 to 767\n",
      "Data columns (total 9 columns):\n",
      " #   Column                    Non-Null Count  Dtype  \n",
      "---  ------                    --------------  -----  \n",
      " 0   Pregnancies               741 non-null    Int64  \n",
      " 1   Glucose                   768 non-null    int64  \n",
      " 2   BloodPressure             748 non-null    float64\n",
      " 3   SkinThickness             768 non-null    int64  \n",
      " 4   Insulin                   747 non-null    float64\n",
      " 5   BMI                       768 non-null    float64\n",
      " 6   DiabetesPedigreeFunction  581 non-null    float64\n",
      " 7   Age                       768 non-null    int64  \n",
      " 8   Outcome                   768 non-null    int64  \n",
      "dtypes: Int64(1), float64(4), int64(4)\n",
      "memory usage: 54.9 KB\n",
      "--------\n",
      "BloodPressuer \n",
      "\n",
      "count    748.000000\n",
      "mean      69.303476\n",
      "std       19.124972\n",
      "min        0.000000\n",
      "25%       63.500000\n",
      "50%       72.000000\n",
      "75%       80.000000\n",
      "max      122.000000\n",
      "Name: BloodPressure, dtype: float64\n",
      "\n",
      "Insulin \n",
      "\n",
      "count    747.000000\n",
      "mean      79.752343\n",
      "std      114.988443\n",
      "min        0.000000\n",
      "25%        0.000000\n",
      "50%       32.000000\n",
      "75%      128.500000\n",
      "max      846.000000\n",
      "Name: Insulin, dtype: float64\n",
      "\n",
      "Diabetes Pedrigree Function \n",
      "\n",
      "count    581.000000\n",
      "mean       0.476091\n",
      "std        0.339878\n",
      "min        0.078000\n",
      "25%        0.240000\n",
      "50%        0.378000\n",
      "75%        0.626000\n",
      "max        2.420000\n",
      "Name: DiabetesPedigreeFunction, dtype: float64\n"
     ]
    }
   ],
   "source": [
    "raw_data_conv.info()\n",
    "# Si ecart type serrer => Moyenne, sinon Mediane\n",
    "# Blood Pressure\n",
    "print(\"--------\\nBloodPressuer \\n\")\n",
    "print(raw_data_conv[\"BloodPressure\"].describe())\n",
    "blood_pressure_mean = raw_data_conv[\"BloodPressure\"].fillna(raw_data_conv[\"BloodPressure\"].mean())\n",
    "\n",
    "# Insulin\n",
    "print(\"\\nInsulin \\n\")\n",
    "print(raw_data_conv[\"Insulin\"].describe())\n",
    "insulin_median = raw_data_conv[\"Insulin\"].fillna(raw_data_conv[\"Insulin\"].median())\n",
    "\n",
    "# Diabetes Pedrigree Function\n",
    "print(\"\\nDiabetes Pedrigree Function \\n\")\n",
    "print(raw_data_conv[\"DiabetesPedigreeFunction\"].describe())\n",
    "diabetes_pedigree_function_median = raw_data_conv[\"DiabetesPedigreeFunction\"].fillna(raw_data_conv[\"DiabetesPedigreeFunction\"].median())\n"
   ]
  },
  {
   "cell_type": "code",
   "execution_count": 19,
   "metadata": {},
   "outputs": [
    {
     "name": "stdout",
     "output_type": "stream",
     "text": [
      "<class 'pandas.core.frame.DataFrame'>\n",
      "RangeIndex: 768 entries, 0 to 767\n",
      "Data columns (total 9 columns):\n",
      " #   Column                    Non-Null Count  Dtype  \n",
      "---  ------                    --------------  -----  \n",
      " 0   Pregnancies               768 non-null    Int64  \n",
      " 1   Glucose                   768 non-null    int64  \n",
      " 2   BloodPressure             768 non-null    float64\n",
      " 3   SkinThickness             768 non-null    int64  \n",
      " 4   Insulin                   768 non-null    float64\n",
      " 5   BMI                       768 non-null    float64\n",
      " 6   DiabetesPedigreeFunction  768 non-null    float64\n",
      " 7   Age                       768 non-null    int64  \n",
      " 8   Outcome                   768 non-null    int64  \n",
      "dtypes: Int64(1), float64(4), int64(4)\n",
      "memory usage: 54.9 KB\n"
     ]
    }
   ],
   "source": [
    "raw_data_inputed = raw_data_conv.copy()\n",
    "\n",
    "raw_data_inputed[\"Pregnancies\"] = pregnancies_data_median\n",
    "raw_data_inputed[\"BloodPressure\"] = blood_pressure_mean\n",
    "raw_data_inputed[\"Insulin\"] = insulin_median\n",
    "raw_data_inputed[\"DiabetesPedigreeFunction\"] = diabetes_pedigree_function_median\n",
    "\n",
    "raw_data_inputed.info()"
   ]
  },
  {
   "cell_type": "markdown",
   "metadata": {},
   "source": [
    "### Automatisé"
   ]
  },
  {
   "cell_type": "code",
   "execution_count": null,
   "metadata": {},
   "outputs": [],
   "source": []
  },
  {
   "cell_type": "code",
   "execution_count": null,
   "metadata": {},
   "outputs": [],
   "source": []
  },
  {
   "cell_type": "markdown",
   "metadata": {},
   "source": [
    "## 15 Sélectionner toutes les variables sauf outcome "
   ]
  },
  {
   "cell_type": "code",
   "execution_count": 20,
   "metadata": {},
   "outputs": [
    {
     "data": {
      "text/html": [
       "<div>\n",
       "<style scoped>\n",
       "    .dataframe tbody tr th:only-of-type {\n",
       "        vertical-align: middle;\n",
       "    }\n",
       "\n",
       "    .dataframe tbody tr th {\n",
       "        vertical-align: top;\n",
       "    }\n",
       "\n",
       "    .dataframe thead th {\n",
       "        text-align: right;\n",
       "    }\n",
       "</style>\n",
       "<table border=\"1\" class=\"dataframe\">\n",
       "  <thead>\n",
       "    <tr style=\"text-align: right;\">\n",
       "      <th></th>\n",
       "      <th>Pregnancies</th>\n",
       "      <th>Glucose</th>\n",
       "      <th>BloodPressure</th>\n",
       "      <th>SkinThickness</th>\n",
       "      <th>Insulin</th>\n",
       "      <th>BMI</th>\n",
       "      <th>DiabetesPedigreeFunction</th>\n",
       "      <th>Age</th>\n",
       "    </tr>\n",
       "  </thead>\n",
       "  <tbody>\n",
       "    <tr>\n",
       "      <th>0</th>\n",
       "      <td>6</td>\n",
       "      <td>148</td>\n",
       "      <td>69.303476</td>\n",
       "      <td>35</td>\n",
       "      <td>0.0</td>\n",
       "      <td>33.6</td>\n",
       "      <td>0.627</td>\n",
       "      <td>50</td>\n",
       "    </tr>\n",
       "    <tr>\n",
       "      <th>1</th>\n",
       "      <td>1</td>\n",
       "      <td>85</td>\n",
       "      <td>69.303476</td>\n",
       "      <td>29</td>\n",
       "      <td>0.0</td>\n",
       "      <td>26.6</td>\n",
       "      <td>0.351</td>\n",
       "      <td>31</td>\n",
       "    </tr>\n",
       "    <tr>\n",
       "      <th>2</th>\n",
       "      <td>8</td>\n",
       "      <td>183</td>\n",
       "      <td>69.303476</td>\n",
       "      <td>0</td>\n",
       "      <td>0.0</td>\n",
       "      <td>23.3</td>\n",
       "      <td>0.672</td>\n",
       "      <td>32</td>\n",
       "    </tr>\n",
       "    <tr>\n",
       "      <th>3</th>\n",
       "      <td>1</td>\n",
       "      <td>89</td>\n",
       "      <td>69.303476</td>\n",
       "      <td>23</td>\n",
       "      <td>94.0</td>\n",
       "      <td>28.1</td>\n",
       "      <td>0.167</td>\n",
       "      <td>21</td>\n",
       "    </tr>\n",
       "    <tr>\n",
       "      <th>4</th>\n",
       "      <td>0</td>\n",
       "      <td>137</td>\n",
       "      <td>69.303476</td>\n",
       "      <td>35</td>\n",
       "      <td>168.0</td>\n",
       "      <td>43.1</td>\n",
       "      <td>2.288</td>\n",
       "      <td>33</td>\n",
       "    </tr>\n",
       "    <tr>\n",
       "      <th>5</th>\n",
       "      <td>5</td>\n",
       "      <td>116</td>\n",
       "      <td>69.303476</td>\n",
       "      <td>0</td>\n",
       "      <td>0.0</td>\n",
       "      <td>25.6</td>\n",
       "      <td>0.201</td>\n",
       "      <td>30</td>\n",
       "    </tr>\n",
       "    <tr>\n",
       "      <th>6</th>\n",
       "      <td>3</td>\n",
       "      <td>78</td>\n",
       "      <td>69.303476</td>\n",
       "      <td>32</td>\n",
       "      <td>88.0</td>\n",
       "      <td>31.0</td>\n",
       "      <td>0.248</td>\n",
       "      <td>26</td>\n",
       "    </tr>\n",
       "    <tr>\n",
       "      <th>7</th>\n",
       "      <td>10</td>\n",
       "      <td>115</td>\n",
       "      <td>69.303476</td>\n",
       "      <td>0</td>\n",
       "      <td>0.0</td>\n",
       "      <td>35.3</td>\n",
       "      <td>0.134</td>\n",
       "      <td>29</td>\n",
       "    </tr>\n",
       "    <tr>\n",
       "      <th>8</th>\n",
       "      <td>2</td>\n",
       "      <td>197</td>\n",
       "      <td>69.303476</td>\n",
       "      <td>45</td>\n",
       "      <td>543.0</td>\n",
       "      <td>30.5</td>\n",
       "      <td>0.158</td>\n",
       "      <td>53</td>\n",
       "    </tr>\n",
       "    <tr>\n",
       "      <th>9</th>\n",
       "      <td>8</td>\n",
       "      <td>125</td>\n",
       "      <td>69.303476</td>\n",
       "      <td>0</td>\n",
       "      <td>0.0</td>\n",
       "      <td>0.0</td>\n",
       "      <td>0.232</td>\n",
       "      <td>54</td>\n",
       "    </tr>\n",
       "  </tbody>\n",
       "</table>\n",
       "</div>"
      ],
      "text/plain": [
       "   Pregnancies  Glucose  BloodPressure  SkinThickness  Insulin   BMI  \\\n",
       "0            6      148      69.303476             35      0.0  33.6   \n",
       "1            1       85      69.303476             29      0.0  26.6   \n",
       "2            8      183      69.303476              0      0.0  23.3   \n",
       "3            1       89      69.303476             23     94.0  28.1   \n",
       "4            0      137      69.303476             35    168.0  43.1   \n",
       "5            5      116      69.303476              0      0.0  25.6   \n",
       "6            3       78      69.303476             32     88.0  31.0   \n",
       "7           10      115      69.303476              0      0.0  35.3   \n",
       "8            2      197      69.303476             45    543.0  30.5   \n",
       "9            8      125      69.303476              0      0.0   0.0   \n",
       "\n",
       "   DiabetesPedigreeFunction  Age  \n",
       "0                     0.627   50  \n",
       "1                     0.351   31  \n",
       "2                     0.672   32  \n",
       "3                     0.167   21  \n",
       "4                     2.288   33  \n",
       "5                     0.201   30  \n",
       "6                     0.248   26  \n",
       "7                     0.134   29  \n",
       "8                     0.158   53  \n",
       "9                     0.232   54  "
      ]
     },
     "execution_count": 20,
     "metadata": {},
     "output_type": "execute_result"
    }
   ],
   "source": [
    "selected_cols = [\"Pregnancies\", \"Glucose\", \"BloodPressure\", \"SkinThickness\", \"Insulin\", \"BMI\", \"DiabetesPedigreeFunction\", \"Age\"]\n",
    "cleaned_data = raw_data_inputed[selected_cols]\n",
    "\n",
    "cleaned_data.head(10)"
   ]
  },
  {
   "cell_type": "markdown",
   "metadata": {},
   "source": [
    "## 16 travailler uniquement les personnes ayant eu au moins une grossesse et la mettre dans une nouvelle table de données nommée donnees_propres"
   ]
  },
  {
   "cell_type": "code",
   "execution_count": 21,
   "metadata": {},
   "outputs": [
    {
     "name": "stdout",
     "output_type": "stream",
     "text": [
      "<class 'pandas.core.frame.DataFrame'>\n",
      "Index: 661 entries, 0 to 767\n",
      "Data columns (total 8 columns):\n",
      " #   Column                    Non-Null Count  Dtype  \n",
      "---  ------                    --------------  -----  \n",
      " 0   Pregnancies               661 non-null    Int64  \n",
      " 1   Glucose                   661 non-null    int64  \n",
      " 2   BloodPressure             661 non-null    float64\n",
      " 3   SkinThickness             661 non-null    int64  \n",
      " 4   Insulin                   661 non-null    float64\n",
      " 5   BMI                       661 non-null    float64\n",
      " 6   DiabetesPedigreeFunction  661 non-null    float64\n",
      " 7   Age                       661 non-null    int64  \n",
      "dtypes: Int64(1), float64(4), int64(3)\n",
      "memory usage: 47.1 KB\n"
     ]
    }
   ],
   "source": [
    "donnees_propres = cleaned_data[cleaned_data[\"Pregnancies\"] > 0]\n",
    "\n",
    "donnees_propres.info()"
   ]
  },
  {
   "cell_type": "markdown",
   "metadata": {},
   "source": [
    "## 17 calculer et afficher la table de correlation de la table donnees_propre"
   ]
  },
  {
   "cell_type": "code",
   "execution_count": 22,
   "metadata": {},
   "outputs": [
    {
     "data": {
      "text/html": [
       "<div>\n",
       "<style scoped>\n",
       "    .dataframe tbody tr th:only-of-type {\n",
       "        vertical-align: middle;\n",
       "    }\n",
       "\n",
       "    .dataframe tbody tr th {\n",
       "        vertical-align: top;\n",
       "    }\n",
       "\n",
       "    .dataframe thead th {\n",
       "        text-align: right;\n",
       "    }\n",
       "</style>\n",
       "<table border=\"1\" class=\"dataframe\">\n",
       "  <thead>\n",
       "    <tr style=\"text-align: right;\">\n",
       "      <th></th>\n",
       "      <th>Pregnancies</th>\n",
       "      <th>Glucose</th>\n",
       "      <th>BloodPressure</th>\n",
       "      <th>SkinThickness</th>\n",
       "      <th>Insulin</th>\n",
       "      <th>BMI</th>\n",
       "      <th>DiabetesPedigreeFunction</th>\n",
       "      <th>Age</th>\n",
       "    </tr>\n",
       "  </thead>\n",
       "  <tbody>\n",
       "    <tr>\n",
       "      <th>Pregnancies</th>\n",
       "      <td>1.000000</td>\n",
       "      <td>0.159155</td>\n",
       "      <td>0.156916</td>\n",
       "      <td>-0.079859</td>\n",
       "      <td>-0.098161</td>\n",
       "      <td>0.081252</td>\n",
       "      <td>0.000789</td>\n",
       "      <td>0.544184</td>\n",
       "    </tr>\n",
       "    <tr>\n",
       "      <th>Glucose</th>\n",
       "      <td>0.159155</td>\n",
       "      <td>1.000000</td>\n",
       "      <td>0.168165</td>\n",
       "      <td>0.026742</td>\n",
       "      <td>0.315719</td>\n",
       "      <td>0.196425</td>\n",
       "      <td>0.100423</td>\n",
       "      <td>0.302983</td>\n",
       "    </tr>\n",
       "    <tr>\n",
       "      <th>BloodPressure</th>\n",
       "      <td>0.156916</td>\n",
       "      <td>0.168165</td>\n",
       "      <td>1.000000</td>\n",
       "      <td>0.162232</td>\n",
       "      <td>0.069073</td>\n",
       "      <td>0.341495</td>\n",
       "      <td>0.054681</td>\n",
       "      <td>0.270292</td>\n",
       "    </tr>\n",
       "    <tr>\n",
       "      <th>SkinThickness</th>\n",
       "      <td>-0.079859</td>\n",
       "      <td>0.026742</td>\n",
       "      <td>0.162232</td>\n",
       "      <td>1.000000</td>\n",
       "      <td>0.426865</td>\n",
       "      <td>0.372544</td>\n",
       "      <td>0.172380</td>\n",
       "      <td>-0.088098</td>\n",
       "    </tr>\n",
       "    <tr>\n",
       "      <th>Insulin</th>\n",
       "      <td>-0.098161</td>\n",
       "      <td>0.315719</td>\n",
       "      <td>0.069073</td>\n",
       "      <td>0.426865</td>\n",
       "      <td>1.000000</td>\n",
       "      <td>0.183492</td>\n",
       "      <td>0.208938</td>\n",
       "      <td>-0.036077</td>\n",
       "    </tr>\n",
       "    <tr>\n",
       "      <th>BMI</th>\n",
       "      <td>0.081252</td>\n",
       "      <td>0.196425</td>\n",
       "      <td>0.341495</td>\n",
       "      <td>0.372544</td>\n",
       "      <td>0.183492</td>\n",
       "      <td>1.000000</td>\n",
       "      <td>0.102693</td>\n",
       "      <td>0.065034</td>\n",
       "    </tr>\n",
       "    <tr>\n",
       "      <th>DiabetesPedigreeFunction</th>\n",
       "      <td>0.000789</td>\n",
       "      <td>0.100423</td>\n",
       "      <td>0.054681</td>\n",
       "      <td>0.172380</td>\n",
       "      <td>0.208938</td>\n",
       "      <td>0.102693</td>\n",
       "      <td>1.000000</td>\n",
       "      <td>0.020884</td>\n",
       "    </tr>\n",
       "    <tr>\n",
       "      <th>Age</th>\n",
       "      <td>0.544184</td>\n",
       "      <td>0.302983</td>\n",
       "      <td>0.270292</td>\n",
       "      <td>-0.088098</td>\n",
       "      <td>-0.036077</td>\n",
       "      <td>0.065034</td>\n",
       "      <td>0.020884</td>\n",
       "      <td>1.000000</td>\n",
       "    </tr>\n",
       "  </tbody>\n",
       "</table>\n",
       "</div>"
      ],
      "text/plain": [
       "                          Pregnancies   Glucose  BloodPressure  SkinThickness  \\\n",
       "Pregnancies                  1.000000  0.159155       0.156916      -0.079859   \n",
       "Glucose                      0.159155  1.000000       0.168165       0.026742   \n",
       "BloodPressure                0.156916  0.168165       1.000000       0.162232   \n",
       "SkinThickness               -0.079859  0.026742       0.162232       1.000000   \n",
       "Insulin                     -0.098161  0.315719       0.069073       0.426865   \n",
       "BMI                          0.081252  0.196425       0.341495       0.372544   \n",
       "DiabetesPedigreeFunction     0.000789  0.100423       0.054681       0.172380   \n",
       "Age                          0.544184  0.302983       0.270292      -0.088098   \n",
       "\n",
       "                           Insulin       BMI  DiabetesPedigreeFunction  \\\n",
       "Pregnancies              -0.098161  0.081252                  0.000789   \n",
       "Glucose                   0.315719  0.196425                  0.100423   \n",
       "BloodPressure             0.069073  0.341495                  0.054681   \n",
       "SkinThickness             0.426865  0.372544                  0.172380   \n",
       "Insulin                   1.000000  0.183492                  0.208938   \n",
       "BMI                       0.183492  1.000000                  0.102693   \n",
       "DiabetesPedigreeFunction  0.208938  0.102693                  1.000000   \n",
       "Age                      -0.036077  0.065034                  0.020884   \n",
       "\n",
       "                               Age  \n",
       "Pregnancies               0.544184  \n",
       "Glucose                   0.302983  \n",
       "BloodPressure             0.270292  \n",
       "SkinThickness            -0.088098  \n",
       "Insulin                  -0.036077  \n",
       "BMI                       0.065034  \n",
       "DiabetesPedigreeFunction  0.020884  \n",
       "Age                       1.000000  "
      ]
     },
     "execution_count": 22,
     "metadata": {},
     "output_type": "execute_result"
    }
   ],
   "source": [
    "corr = donnees_propres[['Pregnancies', 'Glucose', 'BloodPressure', 'SkinThickness', 'Insulin',\n",
    "       'BMI', 'DiabetesPedigreeFunction', 'Age']].corr()\n",
    "corr"
   ]
  },
  {
   "cell_type": "markdown",
   "metadata": {},
   "source": [
    "## 18 afficher le graphe de la table de correspondance"
   ]
  },
  {
   "cell_type": "code",
   "execution_count": 23,
   "metadata": {},
   "outputs": [
    {
     "data": {
      "image/png": "[encoded data removed]",
      "text/plain": [
       "<Figure size 2000x2000 with 2 Axes>"
      ]
     },
     "metadata": {},
     "output_type": "display_data"
    }
   ],
   "source": [
    "# graphique des correlations\n",
    "plt.figure(figsize=(20, 20))\n",
    "\n",
    "plt.title(\"Table de corrélation\", fontsize=30)\n",
    "\n",
    "sns.set(style=\"darkgrid\", font_scale=2)\n",
    "plt.xlabel(\"\",fontsize=20)\n",
    "plt.ylabel(\"\",fontsize=20)\n",
    "\n",
    "sns.heatmap(corr, \n",
    "            cmap='viridis',\n",
    "            cbar=True,\n",
    "            linewidths=0.3,\n",
    "            annot=True,\n",
    "           );"
   ]
  },
  {
   "cell_type": "markdown",
   "metadata": {},
   "source": [
    "## 19 afficher les statistiques descriptives des variables numériques"
   ]
  },
  {
   "cell_type": "code",
   "execution_count": 24,
   "metadata": {},
   "outputs": [
    {
     "data": {
      "text/html": [
       "<div>\n",
       "<style scoped>\n",
       "    .dataframe tbody tr th:only-of-type {\n",
       "        vertical-align: middle;\n",
       "    }\n",
       "\n",
       "    .dataframe tbody tr th {\n",
       "        vertical-align: top;\n",
       "    }\n",
       "\n",
       "    .dataframe thead th {\n",
       "        text-align: right;\n",
       "    }\n",
       "</style>\n",
       "<table border=\"1\" class=\"dataframe\">\n",
       "  <thead>\n",
       "    <tr style=\"text-align: right;\">\n",
       "      <th></th>\n",
       "      <th>Pregnancies</th>\n",
       "      <th>Glucose</th>\n",
       "      <th>BloodPressure</th>\n",
       "      <th>SkinThickness</th>\n",
       "      <th>Insulin</th>\n",
       "      <th>BMI</th>\n",
       "      <th>DiabetesPedigreeFunction</th>\n",
       "      <th>Age</th>\n",
       "    </tr>\n",
       "  </thead>\n",
       "  <tbody>\n",
       "    <tr>\n",
       "      <th>count</th>\n",
       "      <td>661.0</td>\n",
       "      <td>661.000000</td>\n",
       "      <td>661.000000</td>\n",
       "      <td>661.000000</td>\n",
       "      <td>661.000000</td>\n",
       "      <td>661.000000</td>\n",
       "      <td>661.000000</td>\n",
       "      <td>661.000000</td>\n",
       "    </tr>\n",
       "    <tr>\n",
       "      <th>mean</th>\n",
       "      <td>4.429652</td>\n",
       "      <td>120.555219</td>\n",
       "      <td>69.740488</td>\n",
       "      <td>20.269289</td>\n",
       "      <td>78.196672</td>\n",
       "      <td>31.682148</td>\n",
       "      <td>0.449554</td>\n",
       "      <td>34.149773</td>\n",
       "    </tr>\n",
       "    <tr>\n",
       "      <th>std</th>\n",
       "      <td>3.160835</td>\n",
       "      <td>32.300184</td>\n",
       "      <td>17.874275</td>\n",
       "      <td>15.771381</td>\n",
       "      <td>113.214428</td>\n",
       "      <td>7.452155</td>\n",
       "      <td>0.285569</td>\n",
       "      <td>11.798701</td>\n",
       "    </tr>\n",
       "    <tr>\n",
       "      <th>min</th>\n",
       "      <td>1.0</td>\n",
       "      <td>0.000000</td>\n",
       "      <td>0.000000</td>\n",
       "      <td>0.000000</td>\n",
       "      <td>0.000000</td>\n",
       "      <td>0.000000</td>\n",
       "      <td>0.085000</td>\n",
       "      <td>21.000000</td>\n",
       "    </tr>\n",
       "    <tr>\n",
       "      <th>25%</th>\n",
       "      <td>2.0</td>\n",
       "      <td>99.000000</td>\n",
       "      <td>64.000000</td>\n",
       "      <td>0.000000</td>\n",
       "      <td>0.000000</td>\n",
       "      <td>27.100000</td>\n",
       "      <td>0.268000</td>\n",
       "      <td>25.000000</td>\n",
       "    </tr>\n",
       "    <tr>\n",
       "      <th>50%</th>\n",
       "      <td>3.0</td>\n",
       "      <td>116.000000</td>\n",
       "      <td>72.000000</td>\n",
       "      <td>23.000000</td>\n",
       "      <td>32.000000</td>\n",
       "      <td>31.600000</td>\n",
       "      <td>0.378000</td>\n",
       "      <td>30.000000</td>\n",
       "    </tr>\n",
       "    <tr>\n",
       "      <th>75%</th>\n",
       "      <td>7.0</td>\n",
       "      <td>141.000000</td>\n",
       "      <td>80.000000</td>\n",
       "      <td>32.000000</td>\n",
       "      <td>126.000000</td>\n",
       "      <td>35.900000</td>\n",
       "      <td>0.537000</td>\n",
       "      <td>41.000000</td>\n",
       "    </tr>\n",
       "    <tr>\n",
       "      <th>max</th>\n",
       "      <td>15.0</td>\n",
       "      <td>199.000000</td>\n",
       "      <td>122.000000</td>\n",
       "      <td>99.000000</td>\n",
       "      <td>846.000000</td>\n",
       "      <td>67.100000</td>\n",
       "      <td>2.329000</td>\n",
       "      <td>81.000000</td>\n",
       "    </tr>\n",
       "  </tbody>\n",
       "</table>\n",
       "</div>"
      ],
      "text/plain": [
       "       Pregnancies     Glucose  BloodPressure  SkinThickness     Insulin  \\\n",
       "count        661.0  661.000000     661.000000     661.000000  661.000000   \n",
       "mean      4.429652  120.555219      69.740488      20.269289   78.196672   \n",
       "std       3.160835   32.300184      17.874275      15.771381  113.214428   \n",
       "min            1.0    0.000000       0.000000       0.000000    0.000000   \n",
       "25%            2.0   99.000000      64.000000       0.000000    0.000000   \n",
       "50%            3.0  116.000000      72.000000      23.000000   32.000000   \n",
       "75%            7.0  141.000000      80.000000      32.000000  126.000000   \n",
       "max           15.0  199.000000     122.000000      99.000000  846.000000   \n",
       "\n",
       "              BMI  DiabetesPedigreeFunction         Age  \n",
       "count  661.000000                661.000000  661.000000  \n",
       "mean    31.682148                  0.449554   34.149773  \n",
       "std      7.452155                  0.285569   11.798701  \n",
       "min      0.000000                  0.085000   21.000000  \n",
       "25%     27.100000                  0.268000   25.000000  \n",
       "50%     31.600000                  0.378000   30.000000  \n",
       "75%     35.900000                  0.537000   41.000000  \n",
       "max     67.100000                  2.329000   81.000000  "
      ]
     },
     "execution_count": 24,
     "metadata": {},
     "output_type": "execute_result"
    }
   ],
   "source": [
    "donnees_propres.describe()"
   ]
  },
  {
   "cell_type": "markdown",
   "metadata": {},
   "source": [
    "## 20- Recoder la variable Age de la façon suivante en age_rec\n",
    "\n",
    "    - si age < 18 alors \"mineurs\"\n",
    "    - si age compris entre 18 et 25 alors \"juniors\"\n",
    "    - si age comrpis entre 25 et 50 alors \"jeunes\"\n",
    "    - si age > 50 alors \"senior\"\n"
   ]
  },
  {
   "cell_type": "code",
   "execution_count": 25,
   "metadata": {},
   "outputs": [
    {
     "name": "stderr",
     "output_type": "stream",
     "text": [
      "/tmp/ipykernel_8874/3766386878.py:4: SettingWithCopyWarning: \n",
      "A value is trying to be set on a copy of a slice from a DataFrame.\n",
      "Try using .loc[row_indexer,col_indexer] = value instead\n",
      "\n",
      "See the caveats in the documentation: https://pandas.pydata.org/pandas-docs/stable/user_guide/indexing.html#returning-a-view-versus-a-copy\n",
      "  donnees_propres['age_rec'] = pd.cut(donnees_propres['Age'], bins, labels=names)\n"
     ]
    }
   ],
   "source": [
    "bins = [0, 18, 25, 50, np.inf]\n",
    "names = ['mineurs', 'juniors', 'jeunes', 'seniors']\n",
    "\n",
    "donnees_propres['age_rec'] = pd.cut(donnees_propres['Age'], bins, labels=names)\n",
    "\n",
    "\n"
   ]
  },
  {
   "cell_type": "markdown",
   "metadata": {},
   "source": [
    "\n",
    "## 21- Afficher le décompte de \"age_rec\""
   ]
  },
  {
   "cell_type": "code",
   "execution_count": 26,
   "metadata": {},
   "outputs": [
    {
     "data": {
      "text/plain": [
       "age_rec\n",
       "jeunes     386\n",
       "juniors    200\n",
       "seniors     75\n",
       "mineurs      0\n",
       "Name: count, dtype: int64"
      ]
     },
     "execution_count": 26,
     "metadata": {},
     "output_type": "execute_result"
    }
   ],
   "source": [
    "donnees_propres[\"age_rec\"].value_counts()\n"
   ]
  },
  {
   "cell_type": "code",
   "execution_count": 27,
   "metadata": {},
   "outputs": [
    {
     "data": {
      "text/html": [
       "<div>\n",
       "<style scoped>\n",
       "    .dataframe tbody tr th:only-of-type {\n",
       "        vertical-align: middle;\n",
       "    }\n",
       "\n",
       "    .dataframe tbody tr th {\n",
       "        vertical-align: top;\n",
       "    }\n",
       "\n",
       "    .dataframe thead th {\n",
       "        text-align: right;\n",
       "    }\n",
       "</style>\n",
       "<table border=\"1\" class=\"dataframe\">\n",
       "  <thead>\n",
       "    <tr style=\"text-align: right;\">\n",
       "      <th></th>\n",
       "      <th>Pregnancies</th>\n",
       "      <th>Glucose</th>\n",
       "      <th>BloodPressure</th>\n",
       "      <th>SkinThickness</th>\n",
       "      <th>Insulin</th>\n",
       "      <th>BMI</th>\n",
       "      <th>DiabetesPedigreeFunction</th>\n",
       "      <th>Age</th>\n",
       "      <th>age_rec</th>\n",
       "    </tr>\n",
       "  </thead>\n",
       "  <tbody>\n",
       "    <tr>\n",
       "      <th>236</th>\n",
       "      <td>7</td>\n",
       "      <td>181</td>\n",
       "      <td>84.000000</td>\n",
       "      <td>21</td>\n",
       "      <td>192.0</td>\n",
       "      <td>35.9</td>\n",
       "      <td>0.586</td>\n",
       "      <td>51</td>\n",
       "      <td>seniors</td>\n",
       "    </tr>\n",
       "    <tr>\n",
       "      <th>14</th>\n",
       "      <td>5</td>\n",
       "      <td>166</td>\n",
       "      <td>69.303476</td>\n",
       "      <td>19</td>\n",
       "      <td>175.0</td>\n",
       "      <td>25.8</td>\n",
       "      <td>0.587</td>\n",
       "      <td>51</td>\n",
       "      <td>seniors</td>\n",
       "    </tr>\n",
       "    <tr>\n",
       "      <th>24</th>\n",
       "      <td>11</td>\n",
       "      <td>143</td>\n",
       "      <td>94.000000</td>\n",
       "      <td>33</td>\n",
       "      <td>146.0</td>\n",
       "      <td>36.6</td>\n",
       "      <td>0.378</td>\n",
       "      <td>51</td>\n",
       "      <td>seniors</td>\n",
       "    </tr>\n",
       "    <tr>\n",
       "      <th>517</th>\n",
       "      <td>7</td>\n",
       "      <td>125</td>\n",
       "      <td>86.000000</td>\n",
       "      <td>0</td>\n",
       "      <td>0.0</td>\n",
       "      <td>37.6</td>\n",
       "      <td>0.304</td>\n",
       "      <td>51</td>\n",
       "      <td>seniors</td>\n",
       "    </tr>\n",
       "    <tr>\n",
       "      <th>458</th>\n",
       "      <td>10</td>\n",
       "      <td>148</td>\n",
       "      <td>84.000000</td>\n",
       "      <td>48</td>\n",
       "      <td>237.0</td>\n",
       "      <td>37.6</td>\n",
       "      <td>1.001</td>\n",
       "      <td>51</td>\n",
       "      <td>seniors</td>\n",
       "    </tr>\n",
       "    <tr>\n",
       "      <th>...</th>\n",
       "      <td>...</td>\n",
       "      <td>...</td>\n",
       "      <td>...</td>\n",
       "      <td>...</td>\n",
       "      <td>...</td>\n",
       "      <td>...</td>\n",
       "      <td>...</td>\n",
       "      <td>...</td>\n",
       "      <td>...</td>\n",
       "    </tr>\n",
       "    <tr>\n",
       "      <th>123</th>\n",
       "      <td>5</td>\n",
       "      <td>132</td>\n",
       "      <td>80.000000</td>\n",
       "      <td>0</td>\n",
       "      <td>0.0</td>\n",
       "      <td>26.8</td>\n",
       "      <td>0.378</td>\n",
       "      <td>69</td>\n",
       "      <td>seniors</td>\n",
       "    </tr>\n",
       "    <tr>\n",
       "      <th>684</th>\n",
       "      <td>5</td>\n",
       "      <td>136</td>\n",
       "      <td>82.000000</td>\n",
       "      <td>0</td>\n",
       "      <td>0.0</td>\n",
       "      <td>0.0</td>\n",
       "      <td>0.640</td>\n",
       "      <td>69</td>\n",
       "      <td>seniors</td>\n",
       "    </tr>\n",
       "    <tr>\n",
       "      <th>666</th>\n",
       "      <td>4</td>\n",
       "      <td>145</td>\n",
       "      <td>82.000000</td>\n",
       "      <td>18</td>\n",
       "      <td>0.0</td>\n",
       "      <td>32.5</td>\n",
       "      <td>0.235</td>\n",
       "      <td>70</td>\n",
       "      <td>seniors</td>\n",
       "    </tr>\n",
       "    <tr>\n",
       "      <th>453</th>\n",
       "      <td>2</td>\n",
       "      <td>119</td>\n",
       "      <td>0.000000</td>\n",
       "      <td>0</td>\n",
       "      <td>0.0</td>\n",
       "      <td>19.6</td>\n",
       "      <td>0.832</td>\n",
       "      <td>72</td>\n",
       "      <td>seniors</td>\n",
       "    </tr>\n",
       "    <tr>\n",
       "      <th>459</th>\n",
       "      <td>9</td>\n",
       "      <td>134</td>\n",
       "      <td>74.000000</td>\n",
       "      <td>33</td>\n",
       "      <td>60.0</td>\n",
       "      <td>25.9</td>\n",
       "      <td>0.460</td>\n",
       "      <td>81</td>\n",
       "      <td>seniors</td>\n",
       "    </tr>\n",
       "  </tbody>\n",
       "</table>\n",
       "<p>75 rows × 9 columns</p>\n",
       "</div>"
      ],
      "text/plain": [
       "     Pregnancies  Glucose  BloodPressure  SkinThickness  Insulin   BMI  \\\n",
       "236            7      181      84.000000             21    192.0  35.9   \n",
       "14             5      166      69.303476             19    175.0  25.8   \n",
       "24            11      143      94.000000             33    146.0  36.6   \n",
       "517            7      125      86.000000              0      0.0  37.6   \n",
       "458           10      148      84.000000             48    237.0  37.6   \n",
       "..           ...      ...            ...            ...      ...   ...   \n",
       "123            5      132      80.000000              0      0.0  26.8   \n",
       "684            5      136      82.000000              0      0.0   0.0   \n",
       "666            4      145      82.000000             18      0.0  32.5   \n",
       "453            2      119       0.000000              0      0.0  19.6   \n",
       "459            9      134      74.000000             33     60.0  25.9   \n",
       "\n",
       "     DiabetesPedigreeFunction  Age  age_rec  \n",
       "236                     0.586   51  seniors  \n",
       "14                      0.587   51  seniors  \n",
       "24                      0.378   51  seniors  \n",
       "517                     0.304   51  seniors  \n",
       "458                     1.001   51  seniors  \n",
       "..                        ...  ...      ...  \n",
       "123                     0.378   69  seniors  \n",
       "684                     0.640   69  seniors  \n",
       "666                     0.235   70  seniors  \n",
       "453                     0.832   72  seniors  \n",
       "459                     0.460   81  seniors  \n",
       "\n",
       "[75 rows x 9 columns]"
      ]
     },
     "execution_count": 27,
     "metadata": {},
     "output_type": "execute_result"
    }
   ],
   "source": [
    "donnees_propres[donnees_propres[\"age_rec\"] == \"seniors\"].sort_values(\"Age\", ascending=True)\n"
   ]
  }
 ],
 "metadata": {
  "kernelspec": {
   "display_name": "Python 3",
   "language": "python",
   "name": "python3"
  },
  "language_info": {
   "codemirror_mode": {
    "name": "ipython",
    "version": 3
   },
   "file_extension": ".py",
   "mimetype": "text/x-python",
   "name": "python",
   "nbconvert_exporter": "python",
   "pygments_lexer": "ipython3",
   "version": "3.11.6"
  }
 },
 "nbformat": 4,
 "nbformat_minor": 4
}
